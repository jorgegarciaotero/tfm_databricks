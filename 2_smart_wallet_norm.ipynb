{
 "cells": [
  {
   "cell_type": "code",
   "execution_count": 0,
   "metadata": {
    "application/vnd.databricks.v1+cell": {
     "cellMetadata": {
      "byteLimit": 2048000,
      "rowLimit": 10000
     },
     "inputWidgets": {},
     "nuid": "589aa0a4-db52-4075-a8c0-6334f355e607",
     "showTitle": false,
     "tableResultSettingsMap": {},
     "title": ""
    }
   },
   "outputs": [],
   "source": [
    "%run /Workspace/Users/jorgegarciaotero@gmail.com/config/database_connector"
   ]
  },
  {
   "cell_type": "code",
   "execution_count": 0,
   "metadata": {
    "application/vnd.databricks.v1+cell": {
     "cellMetadata": {
      "byteLimit": 2048000,
      "rowLimit": 10000
     },
     "inputWidgets": {},
     "nuid": "689a5a8b-71b8-41e2-bc3d-69e235daa9c5",
     "showTitle": false,
     "tableResultSettingsMap": {},
     "title": ""
    }
   },
   "outputs": [],
   "source": [
    "from pyspark.sql.window import Window\n",
    "from pyspark.sql.functions import col, lag, avg, stddev, when, log"
   ]
  },
  {
   "cell_type": "code",
   "execution_count": 0,
   "metadata": {
    "application/vnd.databricks.v1+cell": {
     "cellMetadata": {
      "byteLimit": 2048000,
      "rowLimit": 10000
     },
     "inputWidgets": {},
     "nuid": "a2d06173-90a7-4a94-9b73-bd7ee4cbdf21",
     "showTitle": false,
     "tableResultSettingsMap": {},
     "title": ""
    }
   },
   "outputs": [],
   "source": [
    "def add_basic_stock_metrics(df):\n",
    "    \"\"\"\n",
    "    Adds daily financial and price-based indicators to stock data.\n",
    "    New columns added:\n",
    "    - prev_close: Closing price from the previous trading day (per symbol).\n",
    "    - prev_volume: Volume from the previous trading day.\n",
    "    - daily_return: Daily return, calculated as (close - open) / open.\n",
    "    - close_change_pct: Percentage change of close price vs previous day.\n",
    "    - intraday_volatility: Daily volatility, calculated as (high - low) / open.\n",
    "    - price_range: Absolute daily price range (high - low).\n",
    "    - gap_open: Difference between today's open and previous close as a % of previous close.\n",
    "    - log_return: Natural logarithm of return between close and previous close.\n",
    "    - volume_change_pct: Volume change vs previous day, as percentage.\n",
    "    - is_dividend_day: Binary indicator (1 if dividend > 0, else 0).\n",
    "    - is_stock_split: Binary indicator (1 if stock_splits > 0, else 0).\n",
    "\n",
    "    Args:\n",
    "        df_stock_data (DataFrame): Spark DataFrame with historical stock prices and structure similar to:\n",
    "            ['date', 'symbol', 'open_v', 'high', 'low', 'close_v', 'volume', 'dividends', 'stock_splits']\n",
    "\n",
    "    Returns:\n",
    "        DataFrame: Enriched Spark DataFrame with additional technical and financial columns.\n",
    "    \"\"\"\n",
    "    window_spec = Window.partitionBy(\"symbol\").orderBy(\"date\")\n",
    "\n",
    "    df = df \\\n",
    "    .withColumn(\"prev_close\", lag(\"close_v\", 1).over(window_spec)) \\\n",
    "    .withColumn(\"prev_volume\", lag(\"volume\", 1).over(window_spec)) \\\n",
    "    .withColumn(\"daily_return\", (col(\"close_v\") - col(\"open_v\")) / col(\"open_v\")) \\\n",
    "    .withColumn(\"close_change_pct\", ((col(\"close_v\") - col(\"prev_close\")) / col(\"prev_close\"))) \\\n",
    "    .withColumn(\"intraday_volatility\", (col(\"high\") - col(\"low\")) / col(\"open_v\")) \\\n",
    "    .withColumn(\"price_range\", col(\"high\") - col(\"low\")) \\\n",
    "    .withColumn(\"gap_open\", (col(\"open_v\") - col(\"prev_close\")) / col(\"prev_close\")) \\\n",
    "    .withColumn(\"log_return\", log(col(\"close_v\") / col(\"prev_close\"))) \\\n",
    "    .withColumn(\"volume_change_pct\", (col(\"volume\") - col(\"prev_volume\")) / col(\"prev_volume\")) \\\n",
    "    .withColumn(\"is_dividend_day\", when(col(\"dividends\") > 0, 1).otherwise(0)) \\\n",
    "    .withColumn(\"is_stock_split\", when(col(\"stock_splits\") > 0, 1).otherwise(0))\n",
    "    df.show()\n",
    "    return df \n"
   ]
  },
  {
   "cell_type": "code",
   "execution_count": 0,
   "metadata": {
    "application/vnd.databricks.v1+cell": {
     "cellMetadata": {
      "byteLimit": 2048000,
      "rowLimit": 10000
     },
     "inputWidgets": {},
     "nuid": "731d1557-97c5-4e1e-80ca-0573cc33f678",
     "showTitle": false,
     "tableResultSettingsMap": {},
     "title": ""
    }
   },
   "outputs": [],
   "source": [
    "def add_technical_stock_metrics(df):\n",
    "    \"\"\"\n",
    "    Adds technical indicators to stock price data.\n",
    "\n",
    "    Includes:\n",
    "    - SMA 5 and 20 (simple moving averages)\n",
    "    - RSI 14 (Relative Strength Index)\n",
    "    - Bollinger Bands (upper/lower based on 20-day SMA and StdDev)\n",
    "    - Relative volume (vs 5-day average)\n",
    "\n",
    "    Args:\n",
    "        df (DataFrame): Spark DataFrame with stock price data, including at least:\n",
    "            ['date', 'symbol', 'open_v', 'close_v', 'high', 'low', 'volume']\n",
    "\n",
    "    Returns:\n",
    "        DataFrame: Spark DataFrame with new technical indicator columns.\n",
    "    \"\"\"\n",
    "\n",
    "    window_spec = Window.partitionBy(\"symbol\").orderBy(\"date\")\n",
    "    \n",
    "    # SMA 5 y 20\n",
    "    df = df.withColumn(\"sma_5\", avg(\"close_v\").over(window_spec.rowsBetween(-4, 0)))\n",
    "    df = df.withColumn(\"sma_20\", avg(\"close_v\").over(window_spec.rowsBetween(-19, 0)))\n",
    "\n",
    "    # RSI 14\n",
    "    delta = col(\"close_v\") - lag(\"close_v\", 1).over(window_spec)\n",
    "    gain = when(delta > 0, delta).otherwise(0)\n",
    "    loss = when(delta < 0, -delta).otherwise(0)\n",
    "\n",
    "    df = df.withColumn(\"delta\", delta)\n",
    "    df = df.withColumn(\"gain\", gain)\n",
    "    df = df.withColumn(\"loss\", loss)\n",
    "\n",
    "    rsi_window = window_spec.rowsBetween(-13, 0)\n",
    "    avg_gain = avg(\"gain\").over(rsi_window)\n",
    "    avg_loss = avg(\"loss\").over(rsi_window)\n",
    "    rs = avg_gain / avg_loss\n",
    "    rsi = 100 - (100 / (1 + rs))\n",
    "\n",
    "    df = df.withColumn(\"rsi_14\", rsi)\n",
    "\n",
    "    # Bandas de Bollinger\n",
    "    sma_20 = avg(\"close_v\").over(window_spec.rowsBetween(-19, 0))\n",
    "    std_20 = stddev(\"close_v\").over(window_spec.rowsBetween(-19, 0))\n",
    "\n",
    "    df = df.withColumn(\"bollinger_upper\", sma_20 + 2 * std_20)\n",
    "    df = df.withColumn(\"bollinger_lower\", sma_20 - 2 * std_20)\n",
    "\n",
    "    # Volumen relativo\n",
    "    vol_avg_5 = avg(\"volume\").over(window_spec.rowsBetween(-4, 0))\n",
    "    df = df.withColumn(\"rel_volume\", col(\"volume\") / vol_avg_5)\n",
    "\n",
    "    return df"
   ]
  },
  {
   "cell_type": "code",
   "execution_count": 0,
   "metadata": {
    "application/vnd.databricks.v1+cell": {
     "cellMetadata": {
      "byteLimit": 2048000,
      "rowLimit": 10000
     },
     "inputWidgets": {},
     "nuid": "4d913fe4-7c5b-43a3-a035-e9694c08b16c",
     "showTitle": false,
     "tableResultSettingsMap": {},
     "title": ""
    }
   },
   "outputs": [],
   "source": [
    "if __name__ == '__main__':\n",
    "    dbutils.widgets.removeAll()\n",
    "\n",
    "    # Creates the input widgets and sets the default values\n",
    "    dbutils.widgets.text(\"storage_account\", \"smartwalletjorge\", \"Storage Account\")\n",
    "    dbutils.widgets.text(\"container\", \"smart-wallet-dl\", \"Container\")\n",
    "    dbutils.widgets.text(\"database\", \"smart_wallet\", \"Database\")\n",
    "    dbutils.widgets.text(\"date\", \"2024-04-10\", \"Date\")\n",
    "\n",
    "    storage_account = dbutils.widgets.get(\"storage_account\")\n",
    "    container = dbutils.widgets.get(\"container\")\n",
    "    database_name = dbutils.widgets.get(\"database\")\n",
    "    date_value = dbutils.widgets.get(\"date\")\n",
    "    if (date_value is None) or (date_value==''):\n",
    "        date_value=None\n",
    "\n",
    "\n",
    "    db_connector = DatabaseConnector()\n",
    "    df_stock_data = db_connector.read_table_from_sql(\"stock_data\",date_value)\n",
    "    df_stock_data = add_basic_stock_metrics(df_stock_data)\n",
    "    df_stock_data = add_technical_stock_metrics(df_stock_data)\n",
    "\n",
    "    "
   ]
  },
  {
   "cell_type": "code",
   "execution_count": 0,
   "metadata": {
    "application/vnd.databricks.v1+cell": {
     "cellMetadata": {
      "byteLimit": 2048000,
      "rowLimit": 10000
     },
     "inputWidgets": {},
     "nuid": "f9c7133b-ea22-46ca-b6f4-ca625b68bb77",
     "showTitle": false,
     "tableResultSettingsMap": {},
     "title": ""
    }
   },
   "outputs": [],
   "source": [
    "'''db_connector.save_table( df,container,database_name, storage_account,table_name,date_value)\n",
    "df2=db_connector.read_table_from_path(container, database_name, \"stock_data\", date_value)\n",
    "display(df2)'''"
   ]
  }
 ],
 "metadata": {
  "application/vnd.databricks.v1+notebook": {
   "computePreferences": null,
   "dashboards": [],
   "environmentMetadata": {
    "base_environment": "",
    "environment_version": "2"
   },
   "inputWidgetPreferences": null,
   "language": "python",
   "notebookMetadata": {
    "pythonIndentUnit": 4
   },
   "notebookName": "2_smart_wallet_norm",
   "widgets": {
    "container": {
     "currentValue": "smart-wallet-dl",
     "nuid": "5ab1907a-4f6a-4820-a1bd-83b776f790f5",
     "typedWidgetInfo": {
      "autoCreated": false,
      "defaultValue": "smart-wallet-dl",
      "label": "Container",
      "name": "container",
      "options": {
       "widgetDisplayType": "Text",
       "validationRegex": null
      },
      "parameterDataType": "String"
     },
     "widgetInfo": {
      "widgetType": "text",
      "defaultValue": "smart-wallet-dl",
      "label": "Container",
      "name": "container",
      "options": {
       "widgetType": "text",
       "autoCreated": null,
       "validationRegex": null
      }
     }
    },
    "database": {
     "currentValue": "smart_wallet",
     "nuid": "a6514c90-b072-4fd5-82f0-1ad28733b64a",
     "typedWidgetInfo": {
      "autoCreated": false,
      "defaultValue": "smart_wallet",
      "label": "Database",
      "name": "database",
      "options": {
       "widgetDisplayType": "Text",
       "validationRegex": null
      },
      "parameterDataType": "String"
     },
     "widgetInfo": {
      "widgetType": "text",
      "defaultValue": "smart_wallet",
      "label": "Database",
      "name": "database",
      "options": {
       "widgetType": "text",
       "autoCreated": null,
       "validationRegex": null
      }
     }
    },
    "date": {
     "currentValue": "2024-04-10",
     "nuid": "0ac86826-1ce7-4fb3-b16a-4fbf8b68b7b2",
     "typedWidgetInfo": {
      "autoCreated": false,
      "defaultValue": "2024-04-10",
      "label": "Date",
      "name": "date",
      "options": {
       "widgetDisplayType": "Text",
       "validationRegex": null
      },
      "parameterDataType": "String"
     },
     "widgetInfo": {
      "widgetType": "text",
      "defaultValue": "2024-04-10",
      "label": "Date",
      "name": "date",
      "options": {
       "widgetType": "text",
       "autoCreated": false,
       "validationRegex": null
      }
     }
    },
    "storage_account": {
     "currentValue": "smartwalletjorge",
     "nuid": "9f3375d3-cda2-411d-a05e-74f39c4948b9",
     "typedWidgetInfo": {
      "autoCreated": false,
      "defaultValue": "smartwalletjorge",
      "label": "Storage Account",
      "name": "storage_account",
      "options": {
       "widgetDisplayType": "Text",
       "validationRegex": null
      },
      "parameterDataType": "String"
     },
     "widgetInfo": {
      "widgetType": "text",
      "defaultValue": "smartwalletjorge",
      "label": "Storage Account",
      "name": "storage_account",
      "options": {
       "widgetType": "text",
       "autoCreated": null,
       "validationRegex": null
      }
     }
    }
   }
  },
  "language_info": {
   "name": "python"
  }
 },
 "nbformat": 4,
 "nbformat_minor": 0
}
