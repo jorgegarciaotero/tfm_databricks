{
 "cells": [
  {
   "cell_type": "code",
   "execution_count": 0,
   "metadata": {
    "application/vnd.databricks.v1+cell": {
     "cellMetadata": {
      "byteLimit": 2048000,
      "rowLimit": 10000
     },
     "inputWidgets": {},
     "nuid": "589aa0a4-db52-4075-a8c0-6334f355e607",
     "showTitle": false,
     "tableResultSettingsMap": {},
     "title": ""
    }
   },
   "outputs": [],
   "source": [
    "%run /Workspace/Users/jorgegarciaotero@gmail.com/tfm_databricks/config/database_connector"
   ]
  },
  {
   "cell_type": "code",
   "execution_count": 0,
   "metadata": {
    "application/vnd.databricks.v1+cell": {
     "cellMetadata": {
      "byteLimit": 2048000,
      "rowLimit": 10000
     },
     "inputWidgets": {},
     "nuid": "689a5a8b-71b8-41e2-bc3d-69e235daa9c5",
     "showTitle": false,
     "tableResultSettingsMap": {},
     "title": ""
    }
   },
   "outputs": [],
   "source": [
    "from pyspark.sql.window import Window\n",
    "import pyspark.sql.functions as F\n"
   ]
  },
  {
   "cell_type": "markdown",
   "metadata": {
    "application/vnd.databricks.v1+cell": {
     "cellMetadata": {
      "byteLimit": 2048000,
      "rowLimit": 10000
     },
     "inputWidgets": {},
     "nuid": "a8fab2a9-b822-4e22-abaf-abba055dcef7",
     "showTitle": false,
     "tableResultSettingsMap": {},
     "title": ""
    }
   },
   "source": [
    "#### FUNCIONES"
   ]
  },
  {
   "cell_type": "code",
   "execution_count": 0,
   "metadata": {
    "application/vnd.databricks.v1+cell": {
     "cellMetadata": {
      "byteLimit": 2048000,
      "rowLimit": 10000
     },
     "inputWidgets": {},
     "nuid": "7d66b036-1672-4315-8556-a3aaaa7a67fd",
     "showTitle": false,
     "tableResultSettingsMap": {},
     "title": ""
    }
   },
   "outputs": [],
   "source": [
    "def check_null_values(df) -> None:\n",
    "    \"\"\"\n",
    "    Checks for null values in the DataFrame and displays the count of null values for each column.\n",
    "\n",
    "    ARGS:\n",
    "        df: Spark DataFrame\n",
    "\n",
    "    RETURNS:\n",
    "        None\n",
    "    \"\"\"\n",
    "    excluded_cols = ['date', 'symbol']\n",
    "    cols_to_check = [c for c in df.columns if c not in excluded_cols]\n",
    "\n",
    "    # Create list of (column_name, count expression)\n",
    "    null_exprs = [\n",
    "        (c, F.count(F.when(F.col(c).isNull() | F.isnan(c), c)).alias(c))\n",
    "        for c in cols_to_check\n",
    "    ]\n",
    "\n",
    "    # Select row with all null counts\n",
    "    null_row = df.select([expr for _, expr in null_exprs])\n",
    "\n",
    "    # Convert to long format using stack\n",
    "    stacked = null_row.select(F.expr(\"stack({}, {})\".format(\n",
    "        len(null_exprs),\n",
    "        \", \".join([f\"'{c}', {c}\" for c, _ in null_exprs])\n",
    "    )).alias(\"column\", \"nulls\"))\n",
    "\n",
    "    # Filter and sort\n",
    "    result = stacked.filter(\"nulls > 0\").orderBy(F.desc(\"nulls\"))\n",
    "\n",
    "    display(result)\n"
   ]
  },
  {
   "cell_type": "code",
   "execution_count": 0,
   "metadata": {
    "application/vnd.databricks.v1+cell": {
     "cellMetadata": {
      "byteLimit": 2048000,
      "rowLimit": 10000
     },
     "inputWidgets": {},
     "nuid": "f242b3fe-ba7b-4477-9a6b-0a2807f31358",
     "showTitle": false,
     "tableResultSettingsMap": {},
     "title": ""
    }
   },
   "outputs": [],
   "source": [
    "def remove_initial_days_per_symbol(df, min_days=20):\n",
    "    \"\"\"\n",
    "    Removes the first `min_days` rows per symbol based on date order.\n",
    "    \n",
    "    Args:\n",
    "        df (DataFrame): Spark DataFrame with at least ['symbol', 'date']\n",
    "        min_days (int): Number of initial rows to drop per symbol\n",
    "\n",
    "    Returns:\n",
    "        DataFrame: Cleaned DataFrame with initial rows removed\n",
    "    \"\"\"\n",
    "    from pyspark.sql.window import Window\n",
    "    from pyspark.sql.functions import row_number\n",
    "\n",
    "    w = Window.partitionBy(\"symbol\").orderBy(\"date\")\n",
    "    df = df.withColumn(\"row_num\", row_number().over(w))\n",
    "    df = df.filter(F.col(\"row_num\") > min_days).drop(\"row_num\")\n",
    "    return df\n"
   ]
  },
  {
   "cell_type": "markdown",
   "metadata": {
    "application/vnd.databricks.v1+cell": {
     "cellMetadata": {
      "byteLimit": 2048000,
      "rowLimit": 10000
     },
     "inputWidgets": {},
     "nuid": "e7912bb0-a992-402e-92a7-20939952327c",
     "showTitle": false,
     "tableResultSettingsMap": {},
     "title": ""
    }
   },
   "source": [
    "#### MAIN"
   ]
  },
  {
   "cell_type": "code",
   "execution_count": 0,
   "metadata": {
    "application/vnd.databricks.v1+cell": {
     "cellMetadata": {
      "byteLimit": 2048000,
      "rowLimit": 10000
     },
     "inputWidgets": {},
     "nuid": "4d913fe4-7c5b-43a3-a035-e9694c08b16c",
     "showTitle": false,
     "tableResultSettingsMap": {},
     "title": ""
    }
   },
   "outputs": [],
   "source": [
    "# Creates the input widgets and sets the default values\n",
    "dbutils.widgets.text(\"storage_account\", \"smartwalletjorge\", \"Storage Account\")\n",
    "dbutils.widgets.text(\"container\", \"smart-wallet-dl\", \"Container\")\n",
    "dbutils.widgets.text(\"database\", \"smart_wallet\", \"Database\")\n",
    "\n",
    "storage_account = dbutils.widgets.get(\"storage_account\")\n",
    "container = dbutils.widgets.get(\"container\")\n",
    "database_name = dbutils.widgets.get(\"database\")\n",
    "date_value = dbutils.widgets.get(\"date\")\n",
    "if (date_value is None) or (date_value==''):\n",
    "    date_value=None\n",
    "\n",
    "db_connector = DatabaseConnector()\n",
    "print(f\"database_name :{database_name}\")\n",
    "\n",
    "df=db_connector.read_table_from_path(container, database_name, \"stock_data_parquet\", date_value,\"parquet\")\n",
    "    "
   ]
  },
  {
   "cell_type": "markdown",
   "metadata": {
    "application/vnd.databricks.v1+cell": {
     "cellMetadata": {
      "byteLimit": 2048000,
      "rowLimit": 10000
     },
     "inputWidgets": {},
     "nuid": "c2866c36-9996-436b-b9f7-b4de72e98944",
     "showTitle": false,
     "tableResultSettingsMap": {},
     "title": ""
    }
   },
   "source": [
    "##### 1. Esquema y nulos"
   ]
  },
  {
   "cell_type": "code",
   "execution_count": 0,
   "metadata": {
    "application/vnd.databricks.v1+cell": {
     "cellMetadata": {
      "byteLimit": 2048000,
      "rowLimit": 10000
     },
     "inputWidgets": {},
     "nuid": "f9c7133b-ea22-46ca-b6f4-ca625b68bb77",
     "showTitle": false,
     "tableResultSettingsMap": {},
     "title": ""
    }
   },
   "outputs": [],
   "source": [
    "print(f\"Counts : {df.count()}\")\n",
    "df.printSchema()\n"
   ]
  },
  {
   "cell_type": "code",
   "execution_count": 0,
   "metadata": {
    "application/vnd.databricks.v1+cell": {
     "cellMetadata": {},
     "inputWidgets": {},
     "nuid": "b9a1b6ad-354b-4e00-a3d4-d50eaedc0be7",
     "showTitle": false,
     "tableResultSettingsMap": {},
     "title": ""
    }
   },
   "outputs": [],
   "source": []
  },
  {
   "cell_type": "code",
   "execution_count": 0,
   "metadata": {
    "application/vnd.databricks.v1+cell": {
     "cellMetadata": {},
     "inputWidgets": {},
     "nuid": "7cbb75e4-e4ea-4cf6-8630-12096082a65e",
     "showTitle": false,
     "tableResultSettingsMap": {},
     "title": ""
    }
   },
   "outputs": [],
   "source": []
  },
  {
   "cell_type": "code",
   "execution_count": 0,
   "metadata": {
    "application/vnd.databricks.v1+cell": {
     "cellMetadata": {
      "byteLimit": 2048000,
      "rowLimit": 10000
     },
     "inputWidgets": {},
     "nuid": "7e21859f-fc83-42c3-b019-90e249c8d63d",
     "showTitle": false,
     "tableResultSettingsMap": {},
     "title": ""
    }
   },
   "outputs": [],
   "source": [
    "from pyspark.sql.window import Window\n",
    "from pyspark.sql.functions import col, lag, avg, stddev, when, log, avg,abs, lit, last, isnan,lead\n",
    "from pyspark.sql.functions import greatest, least,  row_number, max as spark_max, expr\n",
    "from datetime import datetime, timedelta\n",
    "import sys"
   ]
  },
  {
   "cell_type": "code",
   "execution_count": 0,
   "metadata": {
    "application/vnd.databricks.v1+cell": {
     "cellMetadata": {
      "byteLimit": 2048000,
      "rowLimit": 10000
     },
     "inputWidgets": {},
     "nuid": "dab477f4-4e23-46f5-8c3d-f31cecc1c552",
     "showTitle": false,
     "tableResultSettingsMap": {},
     "title": ""
    }
   },
   "outputs": [],
   "source": [
    "def add_future_returns(df):\n",
    "    \"\"\"\n",
    "    Add future return columns for 3-month, 6-month, and 1-year horizons.\n",
    "\n",
    "    For each symbol and date, computes:\n",
    "      - price_lead_3m: closing price ~63 rows ahead (≈3 months of trading days)\n",
    "      - price_lead_6m: closing price ~126 rows ahead (≈6 months of trading days)\n",
    "      - price_lead_1y: closing price ~252 rows ahead (≈1 year of trading days)\n",
    "\n",
    "      - ret_next_3m: (price_lead_3m / close_v) - 1\n",
    "      - ret_next_6m: (price_lead_6m / close_v) - 1\n",
    "      - ret_next_1y: (price_lead_1y / close_v) - 1\n",
    "\n",
    "    Assumes:\n",
    "      - The DataFrame `df` contains at least ['symbol', 'date', 'close_v'].\n",
    "      - `df` is already ordered by ('symbol','date').\n",
    "\n",
    "    Returns:\n",
    "      DataFrame: same DataFrame with new columns:\n",
    "        price_lead_3m, price_lead_6m, price_lead_1y,\n",
    "        ret_next_3m, ret_next_6m, ret_next_1y.\n",
    "    \"\"\"\n",
    "    # Number of trading-day rows ahead for each horizon\n",
    "    days_3m = 21 * 3    # ~63 trading days\n",
    "    days_6m = 21 * 6    # ~126 trading days\n",
    "    days_1y = 21 * 12   # ~252 trading days\n",
    "\n",
    "    # Define window partitioned by symbol, ordered by date\n",
    "    w = Window.partitionBy(\"symbol\").orderBy(\"date\")\n",
    "\n",
    "    # 1) Closing price ~3 months ahead\n",
    "    df = df.withColumn(\"price_lead_3m\", lead(\"close_v\", days_3m).over(w))\n",
    "\n",
    "    # 2) Closing price ~6 months ahead\n",
    "    df = df.withColumn(\"price_lead_6m\", lead(\"close_v\", days_6m).over(w))\n",
    "\n",
    "    # 3) Closing price ~1 year ahead\n",
    "    df = df.withColumn(\"price_lead_1y\", lead(\"close_v\", days_1y).over(w))\n",
    "\n",
    "    # 4) Future return at 3 months\n",
    "    df = df.withColumn(\n",
    "        \"ret_next_3m\",\n",
    "        when(\n",
    "            col(\"price_lead_3m\").isNotNull() & (col(\"close_v\") > 0),\n",
    "            col(\"price_lead_3m\") / col(\"close_v\") - 1\n",
    "        ).otherwise(lit(None))\n",
    "    )\n",
    "\n",
    "    # 5) Future return at 6 months\n",
    "    df = df.withColumn(\n",
    "        \"ret_next_6m\",\n",
    "        when(\n",
    "            col(\"price_lead_6m\").isNotNull() & (col(\"close_v\") > 0),\n",
    "            col(\"price_lead_6m\") / col(\"close_v\") - 1\n",
    "        ).otherwise(lit(None))\n",
    "    )\n",
    "\n",
    "    # 6) Future return at 1 year\n",
    "    df = df.withColumn(\n",
    "        \"ret_next_1y\",\n",
    "        when(\n",
    "            col(\"price_lead_1y\").isNotNull() & (col(\"close_v\") > 0),\n",
    "            col(\"price_lead_1y\") / col(\"close_v\") - 1\n",
    "        ).otherwise(lit(None))\n",
    "    )\n",
    "\n",
    "    return df"
   ]
  },
  {
   "cell_type": "code",
   "execution_count": 0,
   "metadata": {
    "application/vnd.databricks.v1+cell": {
     "cellMetadata": {
      "byteLimit": 2048000,
      "rowLimit": 10000
     },
     "inputWidgets": {},
     "nuid": "1d70224c-4217-4d1d-8dd9-e3db19723484",
     "showTitle": false,
     "tableResultSettingsMap": {},
     "title": ""
    }
   },
   "outputs": [],
   "source": [
    "old_cols = [\n",
    "        \"ret_past_1d\", \"ret_past_7d\", \"ret_past_1m\", \"ret_past_3m\",\n",
    "        \"ret_past_6m\", \"ret_past_1y\", \"ret_past_5y\", \"ret_total\",\n",
    "        \"target_3m\", \"target_6m\", \"target_1y\"\n",
    "    ]"
   ]
  },
  {
   "cell_type": "code",
   "execution_count": 0,
   "metadata": {
    "application/vnd.databricks.v1+cell": {
     "cellMetadata": {
      "byteLimit": 2048000,
      "rowLimit": 10000
     },
     "inputWidgets": {},
     "nuid": "6826ef45-26b3-4ce9-aefe-c71200c6996c",
     "showTitle": false,
     "tableResultSettingsMap": {},
     "title": ""
    }
   },
   "outputs": [],
   "source": [
    "df_clean = df.drop(*[c for c in old_cols if c in df.columns])\n"
   ]
  },
  {
   "cell_type": "code",
   "execution_count": 0,
   "metadata": {
    "application/vnd.databricks.v1+cell": {
     "cellMetadata": {
      "byteLimit": 2048000,
      "rowLimit": 10000
     },
     "inputWidgets": {},
     "nuid": "141faa9d-a198-4d56-9e60-0187295cea26",
     "showTitle": false,
     "tableResultSettingsMap": {},
     "title": ""
    }
   },
   "outputs": [],
   "source": [
    "df_clean.printSchema()"
   ]
  },
  {
   "cell_type": "code",
   "execution_count": 0,
   "metadata": {
    "application/vnd.databricks.v1+cell": {
     "cellMetadata": {
      "byteLimit": 2048000,
      "rowLimit": 10000
     },
     "inputWidgets": {},
     "nuid": "0b812f2f-ec7c-43fb-a514-4d876dd30e0d",
     "showTitle": false,
     "tableResultSettingsMap": {},
     "title": ""
    }
   },
   "outputs": [],
   "source": [
    "df_updated = add_future_returns(df_clean)\n"
   ]
  },
  {
   "cell_type": "code",
   "execution_count": 0,
   "metadata": {
    "application/vnd.databricks.v1+cell": {
     "cellMetadata": {
      "byteLimit": 2048000,
      "rowLimit": 10000
     },
     "inputWidgets": {},
     "nuid": "f658cee9-7a57-4425-a615-4b92a8100c61",
     "showTitle": false,
     "tableResultSettingsMap": {},
     "title": ""
    }
   },
   "outputs": [],
   "source": [
    "df_updated.printSchema()"
   ]
  },
  {
   "cell_type": "code",
   "execution_count": 0,
   "metadata": {
    "application/vnd.databricks.v1+cell": {
     "cellMetadata": {
      "byteLimit": 2048000,
      "rowLimit": 10000
     },
     "inputWidgets": {},
     "nuid": "1562c1ae-0a14-4994-8113-28cb9fa9bda7",
     "showTitle": false,
     "tableResultSettingsMap": {},
     "title": ""
    }
   },
   "outputs": [],
   "source": [
    "check_null_values(df_updated)\n"
   ]
  },
  {
   "cell_type": "code",
   "execution_count": 0,
   "metadata": {
    "application/vnd.databricks.v1+cell": {
     "cellMetadata": {
      "byteLimit": 2048000,
      "rowLimit": 10000
     },
     "inputWidgets": {},
     "nuid": "870aa37b-6966-48cf-a17f-ab04fa8e4bc3",
     "showTitle": false,
     "tableResultSettingsMap": {},
     "title": ""
    }
   },
   "outputs": [],
   "source": [
    "df_updated.coalesce(1).write.mode(\"overwrite\").format(\"parquet\").save(\"abfss://smart-wallet-dl@smartwalletjorge.dfs.core.windows.net/smart_wallet/stock_data_parquet\")"
   ]
  },
  {
   "cell_type": "code",
   "execution_count": 0,
   "metadata": {
    "application/vnd.databricks.v1+cell": {
     "cellMetadata": {},
     "inputWidgets": {},
     "nuid": "0f549a35-c5c4-4793-9fc8-2b29c740b2c0",
     "showTitle": false,
     "tableResultSettingsMap": {},
     "title": ""
    }
   },
   "outputs": [],
   "source": []
  },
  {
   "cell_type": "code",
   "execution_count": 0,
   "metadata": {
    "application/vnd.databricks.v1+cell": {
     "cellMetadata": {},
     "inputWidgets": {},
     "nuid": "3aca8499-8c0e-45a0-88f4-ba3d93ad9cad",
     "showTitle": false,
     "tableResultSettingsMap": {},
     "title": ""
    }
   },
   "outputs": [],
   "source": []
  },
  {
   "cell_type": "code",
   "execution_count": 0,
   "metadata": {
    "application/vnd.databricks.v1+cell": {
     "cellMetadata": {},
     "inputWidgets": {},
     "nuid": "c8e511aa-c9c6-412a-ab66-d1c38700cc41",
     "showTitle": false,
     "tableResultSettingsMap": {},
     "title": ""
    }
   },
   "outputs": [],
   "source": []
  },
  {
   "cell_type": "code",
   "execution_count": 0,
   "metadata": {
    "application/vnd.databricks.v1+cell": {
     "cellMetadata": {
      "byteLimit": 2048000,
      "rowLimit": 10000
     },
     "inputWidgets": {},
     "nuid": "851b6e5a-c267-4c20-9ad2-0b91c92d5123",
     "showTitle": false,
     "tableResultSettingsMap": {},
     "title": ""
    }
   },
   "outputs": [],
   "source": [
    "# Check the null values of the dataframe\n",
    "check_null_values(df)"
   ]
  },
  {
   "cell_type": "markdown",
   "metadata": {
    "application/vnd.databricks.v1+cell": {
     "cellMetadata": {
      "byteLimit": 2048000,
      "rowLimit": 10000
     },
     "inputWidgets": {},
     "nuid": "2e7faefc-91ae-4caa-a975-fdae0a23a0d7",
     "showTitle": false,
     "tableResultSettingsMap": {},
     "title": ""
    }
   },
   "source": [
    "capital_gains son valores de ganancia de capitales, que raras veces se rellenan. Se eliminará, posiblemente, en la parte de EDA en los modelos."
   ]
  },
  {
   "cell_type": "markdown",
   "metadata": {
    "application/vnd.databricks.v1+cell": {
     "cellMetadata": {
      "byteLimit": 2048000,
      "rowLimit": 10000
     },
     "inputWidgets": {},
     "nuid": "c46cce16-bed6-4d76-aca6-67fd4771f22d",
     "showTitle": false,
     "tableResultSettingsMap": {},
     "title": ""
    }
   },
   "source": [
    "Al quitar los valores de los primeros 20 dias de cada acción, vemos eliminamos los valores vacíos de features como gap_open, delta, prev_close. Son vlaores que no existen para los primeros días calculados."
   ]
  },
  {
   "cell_type": "code",
   "execution_count": 0,
   "metadata": {
    "application/vnd.databricks.v1+cell": {
     "cellMetadata": {
      "byteLimit": 2048000,
      "rowLimit": 10000
     },
     "inputWidgets": {},
     "nuid": "509f20ea-0047-478d-90fc-689bbfbfcb99",
     "showTitle": false,
     "tableResultSettingsMap": {},
     "title": ""
    }
   },
   "outputs": [],
   "source": [
    "df_cleaned=remove_initial_days_per_symbol(df, min_days=20)\n",
    "check_null_values(df_cleaned) "
   ]
  },
  {
   "cell_type": "code",
   "execution_count": 0,
   "metadata": {
    "application/vnd.databricks.v1+cell": {
     "cellMetadata": {
      "byteLimit": 2048000,
      "rowLimit": 10000
     },
     "inputWidgets": {},
     "nuid": "b0817762-7bd3-4522-9779-96ca5b0a0440",
     "showTitle": false,
     "tableResultSettingsMap": {},
     "title": ""
    }
   },
   "outputs": [],
   "source": [
    "df_aux=df_cleaned.filter(F.col(\"momentum_10\").isNull())\n",
    "display(df_aux)\n",
    "df_cleaned = df_cleaned.filter(F.col(\"momentum_10\").isNotNull() & ~F.isnan(\"momentum_10\"))\n",
    "check_null_values(df_cleaned) "
   ]
  },
  {
   "cell_type": "markdown",
   "metadata": {
    "application/vnd.databricks.v1+cell": {
     "cellMetadata": {
      "byteLimit": 2048000,
      "rowLimit": 10000
     },
     "inputWidgets": {},
     "nuid": "868f5e50-83b4-4785-887f-b57bca3c74f4",
     "showTitle": false,
     "tableResultSettingsMap": {},
     "title": ""
    }
   },
   "source": [
    "Existen 17 valores de log_return  Null. En todos los casos ocurre que o bien el valor de close_v es negativo  o prev_close es 0. Son balores corruptos que se deben eliminar en la extracción de los datos."
   ]
  },
  {
   "cell_type": "code",
   "execution_count": 0,
   "metadata": {
    "application/vnd.databricks.v1+cell": {
     "cellMetadata": {
      "byteLimit": 2048000,
      "rowLimit": 10000
     },
     "inputWidgets": {},
     "nuid": "82fe7244-20d0-4001-a5dd-a3a9c9aac2ea",
     "showTitle": false,
     "tableResultSettingsMap": {},
     "title": ""
    }
   },
   "outputs": [],
   "source": [
    "\n",
    "df_aux=df_cleaned.filter(F.col(\"log_return\").isNull())\n",
    "display(df_aux.select(\"date\",\"symbol\",\"log_return\",\"close_v\",\"prev_close\",\"volume\"))"
   ]
  },
  {
   "cell_type": "code",
   "execution_count": 0,
   "metadata": {
    "application/vnd.databricks.v1+cell": {
     "cellMetadata": {
      "byteLimit": 2048000,
      "rowLimit": 10000
     },
     "inputWidgets": {},
     "nuid": "10316e31-e5a9-49da-88e0-d8d294c19a69",
     "showTitle": false,
     "tableResultSettingsMap": {},
     "title": ""
    }
   },
   "outputs": [],
   "source": [
    "df_cleaned.filter(\n",
    "    (F.col(\"symbol\") == \"LENZ\") & \n",
    "    (F.col(\"date\").isin([\"2024-03-21\", \"2024-03-22\",\"2024-03-14\",\"2024-03-15\"]))\n",
    ").orderBy(\"date\").select(\"date\",\"symbol\",\"log_return\",\"close_v\",\"prev_close\",\"volume\").display()\n"
   ]
  },
  {
   "cell_type": "markdown",
   "metadata": {
    "application/vnd.databricks.v1+cell": {
     "cellMetadata": {
      "byteLimit": 2048000,
      "rowLimit": 10000
     },
     "inputWidgets": {},
     "nuid": "d0ad7f7b-fc8a-4fda-abc5-14691eae79e5",
     "showTitle": false,
     "tableResultSettingsMap": {},
     "title": ""
    }
   },
   "source": [
    "Volvemos a calcular los valores nulos. "
   ]
  },
  {
   "cell_type": "code",
   "execution_count": 0,
   "metadata": {
    "application/vnd.databricks.v1+cell": {
     "cellMetadata": {
      "byteLimit": 2048000,
      "rowLimit": 10000
     },
     "inputWidgets": {},
     "nuid": "e031897a-9c1a-4a38-843f-2a80b75d4df6",
     "showTitle": false,
     "tableResultSettingsMap": {},
     "title": ""
    }
   },
   "outputs": [],
   "source": [
    "check_null_values(df_cleaned) "
   ]
  },
  {
   "cell_type": "code",
   "execution_count": 0,
   "metadata": {
    "application/vnd.databricks.v1+cell": {
     "cellMetadata": {
      "byteLimit": 2048000,
      "rowLimit": 10000
     },
     "inputWidgets": {},
     "nuid": "2ad36c73-8791-4872-8cb2-4d49e83abb4a",
     "showTitle": false,
     "tableResultSettingsMap": {},
     "title": ""
    }
   },
   "outputs": [],
   "source": [
    "df_cleaned.printSchema()"
   ]
  },
  {
   "cell_type": "code",
   "execution_count": 0,
   "metadata": {
    "application/vnd.databricks.v1+cell": {
     "cellMetadata": {
      "byteLimit": 2048000,
      "rowLimit": 10000
     },
     "inputWidgets": {},
     "nuid": "fe8a1706-8188-4933-beb0-dec41f17d8f9",
     "showTitle": false,
     "tableResultSettingsMap": {},
     "title": ""
    }
   },
   "outputs": [],
   "source": [
    "df_apple=df_cleaned.filter(\n",
    "    (F.col(\"symbol\") == \"AAPL\") #& \n",
    "    #(F.col(\"date\").isin([\"2025-05-11\", \"2025-05-12\",\"2025-05-13\", \"2025-05-14\",\"2025-05-15\", \"2025-05-16\",\"2025-05-17\",\"2025-05-18\"]))\n",
    ").orderBy(\"date\").select(\"date\",\"close_v\",\"prev_close\",\"open_v\",\n",
    "                         \"ret_past_1d\",\"ret_past_7d\",\"ret_past_1m\",\"ret_past_3m\",\"ret_past_6m\",\"ret_past_1y\",\"ret_past_5y\",\"ret_total\").display()\n"
   ]
  }
 ],
 "metadata": {
  "application/vnd.databricks.v1+notebook": {
   "computePreferences": null,
   "dashboards": [],
   "environmentMetadata": {
    "base_environment": "",
    "environment_version": "2"
   },
   "inputWidgetPreferences": null,
   "language": "python",
   "notebookMetadata": {
    "pythonIndentUnit": 4
   },
   "notebookName": "bkp_3_check_data",
   "widgets": {
    "container": {
     "currentValue": "smart-wallet-dl",
     "nuid": "5ab1907a-4f6a-4820-a1bd-83b776f790f5",
     "typedWidgetInfo": {
      "autoCreated": false,
      "defaultValue": "smart-wallet-dl",
      "label": "Container",
      "name": "container",
      "options": {
       "widgetDisplayType": "Text",
       "validationRegex": null
      },
      "parameterDataType": "String"
     },
     "widgetInfo": {
      "widgetType": "text",
      "defaultValue": "smart-wallet-dl",
      "label": "Container",
      "name": "container",
      "options": {
       "widgetType": "text",
       "autoCreated": null,
       "validationRegex": null
      }
     }
    },
    "database": {
     "currentValue": "smart_wallet",
     "nuid": "a6514c90-b072-4fd5-82f0-1ad28733b64a",
     "typedWidgetInfo": {
      "autoCreated": false,
      "defaultValue": "smart_wallet",
      "label": "Database",
      "name": "database",
      "options": {
       "widgetDisplayType": "Text",
       "validationRegex": null
      },
      "parameterDataType": "String"
     },
     "widgetInfo": {
      "widgetType": "text",
      "defaultValue": "smart_wallet",
      "label": "Database",
      "name": "database",
      "options": {
       "widgetType": "text",
       "autoCreated": null,
       "validationRegex": null
      }
     }
    },
    "date": {
     "currentValue": "",
     "nuid": "0ac86826-1ce7-4fb3-b16a-4fbf8b68b7b2",
     "typedWidgetInfo": {
      "autoCreated": false,
      "defaultValue": "2024-04-10",
      "label": "Date",
      "name": "date",
      "options": {
       "widgetDisplayType": "Text",
       "validationRegex": null
      },
      "parameterDataType": "String"
     },
     "widgetInfo": {
      "widgetType": "text",
      "defaultValue": "2024-04-10",
      "label": "Date",
      "name": "date",
      "options": {
       "widgetType": "text",
       "autoCreated": null,
       "validationRegex": null
      }
     }
    },
    "storage_account": {
     "currentValue": "smartwalletjorge",
     "nuid": "9f3375d3-cda2-411d-a05e-74f39c4948b9",
     "typedWidgetInfo": {
      "autoCreated": false,
      "defaultValue": "smartwalletjorge",
      "label": "Storage Account",
      "name": "storage_account",
      "options": {
       "widgetDisplayType": "Text",
       "validationRegex": null
      },
      "parameterDataType": "String"
     },
     "widgetInfo": {
      "widgetType": "text",
      "defaultValue": "smartwalletjorge",
      "label": "Storage Account",
      "name": "storage_account",
      "options": {
       "widgetType": "text",
       "autoCreated": null,
       "validationRegex": null
      }
     }
    }
   }
  },
  "language_info": {
   "name": "python"
  }
 },
 "nbformat": 4,
 "nbformat_minor": 0
}
