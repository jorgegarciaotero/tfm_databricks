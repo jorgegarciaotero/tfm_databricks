{
 "cells": [
  {
   "cell_type": "code",
   "execution_count": 0,
   "metadata": {
    "application/vnd.databricks.v1+cell": {
     "cellMetadata": {
      "byteLimit": 2048000,
      "rowLimit": 10000
     },
     "inputWidgets": {},
     "nuid": "589aa0a4-db52-4075-a8c0-6334f355e607",
     "showTitle": false,
     "tableResultSettingsMap": {},
     "title": ""
    }
   },
   "outputs": [],
   "source": [
    "%run /Workspace/Users/jorgegarciaotero@gmail.com/tfm_databricks/config/database_connector"
   ]
  },
  {
   "cell_type": "code",
   "execution_count": 0,
   "metadata": {
    "application/vnd.databricks.v1+cell": {
     "cellMetadata": {
      "byteLimit": 2048000,
      "rowLimit": 10000
     },
     "inputWidgets": {},
     "nuid": "689a5a8b-71b8-41e2-bc3d-69e235daa9c5",
     "showTitle": false,
     "tableResultSettingsMap": {},
     "title": ""
    }
   },
   "outputs": [],
   "source": [
    "from pyspark.sql.window import Window\n",
    "import pyspark.sql.functions as F\n"
   ]
  },
  {
   "cell_type": "markdown",
   "metadata": {
    "application/vnd.databricks.v1+cell": {
     "cellMetadata": {
      "byteLimit": 2048000,
      "rowLimit": 10000
     },
     "inputWidgets": {},
     "nuid": "a8fab2a9-b822-4e22-abaf-abba055dcef7",
     "showTitle": false,
     "tableResultSettingsMap": {},
     "title": ""
    }
   },
   "source": [
    "#### FUNCIONES"
   ]
  },
  {
   "cell_type": "code",
   "execution_count": 0,
   "metadata": {
    "application/vnd.databricks.v1+cell": {
     "cellMetadata": {
      "byteLimit": 2048000,
      "rowLimit": 10000
     },
     "inputWidgets": {},
     "nuid": "7d66b036-1672-4315-8556-a3aaaa7a67fd",
     "showTitle": false,
     "tableResultSettingsMap": {},
     "title": ""
    }
   },
   "outputs": [],
   "source": [
    "def check_null_values(df) -> None:\n",
    "    \"\"\"\n",
    "    Checks for null values in the DataFrame and displays the count of null values for each column.\n",
    "\n",
    "    ARGS:\n",
    "        df: Spark DataFrame\n",
    "\n",
    "    RETURNS:\n",
    "        None\n",
    "    \"\"\"\n",
    "    excluded_cols = ['date', 'symbol']\n",
    "    cols_to_check = [c for c in df.columns if c not in excluded_cols]\n",
    "\n",
    "    # Create list of (column_name, count expression)\n",
    "    null_exprs = [\n",
    "        (c, F.count(F.when(F.col(c).isNull() | F.isnan(c), c)).alias(c))\n",
    "        for c in cols_to_check\n",
    "    ]\n",
    "\n",
    "    # Select row with all null counts\n",
    "    null_row = df.select([expr for _, expr in null_exprs])\n",
    "\n",
    "    # Convert to long format using stack\n",
    "    stacked = null_row.select(F.expr(\"stack({}, {})\".format(\n",
    "        len(null_exprs),\n",
    "        \", \".join([f\"'{c}', {c}\" for c, _ in null_exprs])\n",
    "    )).alias(\"column\", \"nulls\"))\n",
    "\n",
    "    # Filter and sort\n",
    "    result = stacked.filter(\"nulls > 0\").orderBy(F.desc(\"nulls\"))\n",
    "\n",
    "    display(result)\n"
   ]
  },
  {
   "cell_type": "code",
   "execution_count": 0,
   "metadata": {
    "application/vnd.databricks.v1+cell": {
     "cellMetadata": {
      "byteLimit": 2048000,
      "rowLimit": 10000
     },
     "inputWidgets": {},
     "nuid": "f242b3fe-ba7b-4477-9a6b-0a2807f31358",
     "showTitle": false,
     "tableResultSettingsMap": {},
     "title": ""
    }
   },
   "outputs": [],
   "source": [
    "def remove_initial_days_per_symbol(df, min_days=20):\n",
    "    \"\"\"\n",
    "    Removes the first `min_days` rows per symbol based on date order.\n",
    "    \n",
    "    Args:\n",
    "        df (DataFrame): Spark DataFrame with at least ['symbol', 'date']\n",
    "        min_days (int): Number of initial rows to drop per symbol\n",
    "\n",
    "    Returns:\n",
    "        DataFrame: Cleaned DataFrame with initial rows removed\n",
    "    \"\"\"\n",
    "    from pyspark.sql.window import Window\n",
    "    from pyspark.sql.functions import row_number\n",
    "\n",
    "    w = Window.partitionBy(\"symbol\").orderBy(\"date\")\n",
    "    df = df.withColumn(\"row_num\", row_number().over(w))\n",
    "    df = df.filter(F.col(\"row_num\") > min_days).drop(\"row_num\")\n",
    "    return df\n"
   ]
  },
  {
   "cell_type": "markdown",
   "metadata": {
    "application/vnd.databricks.v1+cell": {
     "cellMetadata": {
      "byteLimit": 2048000,
      "rowLimit": 10000
     },
     "inputWidgets": {},
     "nuid": "e7912bb0-a992-402e-92a7-20939952327c",
     "showTitle": false,
     "tableResultSettingsMap": {},
     "title": ""
    }
   },
   "source": [
    "#### MAIN"
   ]
  },
  {
   "cell_type": "code",
   "execution_count": 0,
   "metadata": {
    "application/vnd.databricks.v1+cell": {
     "cellMetadata": {
      "byteLimit": 2048000,
      "rowLimit": 10000
     },
     "inputWidgets": {},
     "nuid": "4d913fe4-7c5b-43a3-a035-e9694c08b16c",
     "showTitle": false,
     "tableResultSettingsMap": {},
     "title": ""
    }
   },
   "outputs": [],
   "source": [
    "# Creates the input widgets and sets the default values\n",
    "dbutils.widgets.text(\"storage_account\", \"smartwalletjorge\", \"Storage Account\")\n",
    "dbutils.widgets.text(\"container\", \"smart-wallet-dl\", \"Container\")\n",
    "dbutils.widgets.text(\"database\", \"smart_wallet\", \"Database\")\n",
    "\n",
    "storage_account = dbutils.widgets.get(\"storage_account\")\n",
    "container = dbutils.widgets.get(\"container\")\n",
    "database_name = dbutils.widgets.get(\"database\")\n",
    "date_value = dbutils.widgets.get(\"date\")\n",
    "if (date_value is None) or (date_value==''):\n",
    "    date_value=None\n",
    "\n",
    "db_connector = DatabaseConnector()\n",
    "print(f\"database_name :{database_name}\")\n",
    "\n",
    "df=db_connector.read_table_from_path(container, database_name, \"stock_data_parquet\", date_value,\"parquet\")\n",
    "    "
   ]
  },
  {
   "cell_type": "markdown",
   "metadata": {
    "application/vnd.databricks.v1+cell": {
     "cellMetadata": {
      "byteLimit": 2048000,
      "rowLimit": 10000
     },
     "inputWidgets": {},
     "nuid": "c2866c36-9996-436b-b9f7-b4de72e98944",
     "showTitle": false,
     "tableResultSettingsMap": {},
     "title": ""
    }
   },
   "source": [
    "##### 1. Esquema y nulos"
   ]
  },
  {
   "cell_type": "code",
   "execution_count": 0,
   "metadata": {
    "application/vnd.databricks.v1+cell": {
     "cellMetadata": {
      "byteLimit": 2048000,
      "rowLimit": 10000
     },
     "inputWidgets": {},
     "nuid": "f9c7133b-ea22-46ca-b6f4-ca625b68bb77",
     "showTitle": false,
     "tableResultSettingsMap": {},
     "title": ""
    }
   },
   "outputs": [],
   "source": [
    "print(f\"Counts : {df.count()}\")\n",
    "df.printSchema()\n"
   ]
  },
  {
   "cell_type": "code",
   "execution_count": 0,
   "metadata": {
    "application/vnd.databricks.v1+cell": {
     "cellMetadata": {
      "byteLimit": 2048000,
      "rowLimit": 10000
     },
     "inputWidgets": {},
     "nuid": "851b6e5a-c267-4c20-9ad2-0b91c92d5123",
     "showTitle": false,
     "tableResultSettingsMap": {},
     "title": ""
    }
   },
   "outputs": [],
   "source": [
    "# Check the null values of the dataframe\n",
    "check_null_values(df)"
   ]
  },
  {
   "cell_type": "markdown",
   "metadata": {
    "application/vnd.databricks.v1+cell": {
     "cellMetadata": {
      "byteLimit": 2048000,
      "rowLimit": 10000
     },
     "inputWidgets": {},
     "nuid": "2e7faefc-91ae-4caa-a975-fdae0a23a0d7",
     "showTitle": false,
     "tableResultSettingsMap": {},
     "title": ""
    }
   },
   "source": [
    "capital_gains son valores de ganancia de capitales, que raras veces se rellenan. Se eliminará, posiblemente, en la parte de EDA en los modelos."
   ]
  },
  {
   "cell_type": "markdown",
   "metadata": {
    "application/vnd.databricks.v1+cell": {
     "cellMetadata": {
      "byteLimit": 2048000,
      "rowLimit": 10000
     },
     "inputWidgets": {},
     "nuid": "c46cce16-bed6-4d76-aca6-67fd4771f22d",
     "showTitle": false,
     "tableResultSettingsMap": {},
     "title": ""
    }
   },
   "source": [
    "Al quitar los valores de los primeros 20 dias de cada acción, vemos eliminamos los valores vacíos de features como gap_open, delta, prev_close. Son vlaores que no existen para los primeros días calculados."
   ]
  },
  {
   "cell_type": "code",
   "execution_count": 0,
   "metadata": {
    "application/vnd.databricks.v1+cell": {
     "cellMetadata": {
      "byteLimit": 2048000,
      "rowLimit": 10000
     },
     "inputWidgets": {},
     "nuid": "509f20ea-0047-478d-90fc-689bbfbfcb99",
     "showTitle": false,
     "tableResultSettingsMap": {},
     "title": ""
    }
   },
   "outputs": [],
   "source": [
    "df_cleaned=remove_initial_days_per_symbol(df, min_days=20)\n",
    "check_null_values(df_cleaned) "
   ]
  },
  {
   "cell_type": "code",
   "execution_count": 0,
   "metadata": {
    "application/vnd.databricks.v1+cell": {
     "cellMetadata": {
      "byteLimit": 2048000,
      "rowLimit": 10000
     },
     "inputWidgets": {},
     "nuid": "b0817762-7bd3-4522-9779-96ca5b0a0440",
     "showTitle": false,
     "tableResultSettingsMap": {},
     "title": ""
    }
   },
   "outputs": [],
   "source": [
    "df_aux=df_cleaned.filter(F.col(\"momentum_10\").isNull())\n",
    "display(df_aux)\n",
    "df_cleaned = df_cleaned.filter(F.col(\"momentum_10\").isNotNull() & ~F.isnan(\"momentum_10\"))\n",
    "check_null_values(df_cleaned) "
   ]
  },
  {
   "cell_type": "markdown",
   "metadata": {
    "application/vnd.databricks.v1+cell": {
     "cellMetadata": {
      "byteLimit": 2048000,
      "rowLimit": 10000
     },
     "inputWidgets": {},
     "nuid": "868f5e50-83b4-4785-887f-b57bca3c74f4",
     "showTitle": false,
     "tableResultSettingsMap": {},
     "title": ""
    }
   },
   "source": [
    "Existen 17 valores de log_return  Null. En todos los casos ocurre que o bien el valor de close_v es negativo  o prev_close es 0. Son balores corruptos que se deben eliminar en la extracción de los datos."
   ]
  },
  {
   "cell_type": "code",
   "execution_count": 0,
   "metadata": {
    "application/vnd.databricks.v1+cell": {
     "cellMetadata": {
      "byteLimit": 2048000,
      "rowLimit": 10000
     },
     "inputWidgets": {},
     "nuid": "82fe7244-20d0-4001-a5dd-a3a9c9aac2ea",
     "showTitle": false,
     "tableResultSettingsMap": {},
     "title": ""
    }
   },
   "outputs": [],
   "source": [
    "\n",
    "df_aux=df_cleaned.filter(F.col(\"log_return\").isNull())\n",
    "display(df_aux.select(\"date\",\"symbol\",\"log_return\",\"close_v\",\"prev_close\",\"volume\"))"
   ]
  },
  {
   "cell_type": "code",
   "execution_count": 0,
   "metadata": {
    "application/vnd.databricks.v1+cell": {
     "cellMetadata": {
      "byteLimit": 2048000,
      "rowLimit": 10000
     },
     "inputWidgets": {},
     "nuid": "10316e31-e5a9-49da-88e0-d8d294c19a69",
     "showTitle": false,
     "tableResultSettingsMap": {},
     "title": ""
    }
   },
   "outputs": [],
   "source": [
    "df_cleaned.filter(\n",
    "    (F.col(\"symbol\") == \"LENZ\") & \n",
    "    (F.col(\"date\").isin([\"2024-03-21\", \"2024-03-22\",\"2024-03-14\",\"2024-03-15\"]))\n",
    ").orderBy(\"date\").select(\"date\",\"symbol\",\"log_return\",\"close_v\",\"prev_close\",\"volume\").display()\n"
   ]
  },
  {
   "cell_type": "markdown",
   "metadata": {
    "application/vnd.databricks.v1+cell": {
     "cellMetadata": {
      "byteLimit": 2048000,
      "rowLimit": 10000
     },
     "inputWidgets": {},
     "nuid": "d0ad7f7b-fc8a-4fda-abc5-14691eae79e5",
     "showTitle": false,
     "tableResultSettingsMap": {},
     "title": ""
    }
   },
   "source": [
    "Volvemos a calcular los valores nulos. "
   ]
  },
  {
   "cell_type": "code",
   "execution_count": 0,
   "metadata": {
    "application/vnd.databricks.v1+cell": {
     "cellMetadata": {
      "byteLimit": 2048000,
      "rowLimit": 10000
     },
     "inputWidgets": {},
     "nuid": "e031897a-9c1a-4a38-843f-2a80b75d4df6",
     "showTitle": false,
     "tableResultSettingsMap": {},
     "title": ""
    }
   },
   "outputs": [],
   "source": [
    "check_null_values(df_cleaned) "
   ]
  }
 ],
 "metadata": {
  "application/vnd.databricks.v1+notebook": {
   "computePreferences": null,
   "dashboards": [],
   "environmentMetadata": {
    "base_environment": "",
    "environment_version": "2"
   },
   "inputWidgetPreferences": null,
   "language": "python",
   "notebookMetadata": {
    "pythonIndentUnit": 4
   },
   "notebookName": "3_check_data",
   "widgets": {
    "container": {
     "currentValue": "smart-wallet-dl",
     "nuid": "5ab1907a-4f6a-4820-a1bd-83b776f790f5",
     "typedWidgetInfo": {
      "autoCreated": false,
      "defaultValue": "smart-wallet-dl",
      "label": "Container",
      "name": "container",
      "options": {
       "widgetDisplayType": "Text",
       "validationRegex": null
      },
      "parameterDataType": "String"
     },
     "widgetInfo": {
      "widgetType": "text",
      "defaultValue": "smart-wallet-dl",
      "label": "Container",
      "name": "container",
      "options": {
       "widgetType": "text",
       "autoCreated": null,
       "validationRegex": null
      }
     }
    },
    "database": {
     "currentValue": "smart_wallet",
     "nuid": "a6514c90-b072-4fd5-82f0-1ad28733b64a",
     "typedWidgetInfo": {
      "autoCreated": false,
      "defaultValue": "smart_wallet",
      "label": "Database",
      "name": "database",
      "options": {
       "widgetDisplayType": "Text",
       "validationRegex": null
      },
      "parameterDataType": "String"
     },
     "widgetInfo": {
      "widgetType": "text",
      "defaultValue": "smart_wallet",
      "label": "Database",
      "name": "database",
      "options": {
       "widgetType": "text",
       "autoCreated": null,
       "validationRegex": null
      }
     }
    },
    "date": {
     "currentValue": "",
     "nuid": "0ac86826-1ce7-4fb3-b16a-4fbf8b68b7b2",
     "typedWidgetInfo": {
      "autoCreated": false,
      "defaultValue": "2024-04-10",
      "label": "Date",
      "name": "date",
      "options": {
       "widgetDisplayType": "Text",
       "validationRegex": null
      },
      "parameterDataType": "String"
     },
     "widgetInfo": {
      "widgetType": "text",
      "defaultValue": "2024-04-10",
      "label": "Date",
      "name": "date",
      "options": {
       "widgetType": "text",
       "autoCreated": null,
       "validationRegex": null
      }
     }
    },
    "storage_account": {
     "currentValue": "smartwalletjorge",
     "nuid": "9f3375d3-cda2-411d-a05e-74f39c4948b9",
     "typedWidgetInfo": {
      "autoCreated": false,
      "defaultValue": "smartwalletjorge",
      "label": "Storage Account",
      "name": "storage_account",
      "options": {
       "widgetDisplayType": "Text",
       "validationRegex": null
      },
      "parameterDataType": "String"
     },
     "widgetInfo": {
      "widgetType": "text",
      "defaultValue": "smartwalletjorge",
      "label": "Storage Account",
      "name": "storage_account",
      "options": {
       "widgetType": "text",
       "autoCreated": null,
       "validationRegex": null
      }
     }
    }
   }
  },
  "language_info": {
   "name": "python"
  }
 },
 "nbformat": 4,
 "nbformat_minor": 0
}
