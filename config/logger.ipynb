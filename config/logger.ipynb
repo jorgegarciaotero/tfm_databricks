{
 "cells": [
  {
   "cell_type": "code",
   "execution_count": 0,
   "metadata": {
    "application/vnd.databricks.v1+cell": {
     "cellMetadata": {
      "byteLimit": 2048000,
      "rowLimit": 10000
     },
     "inputWidgets": {},
     "nuid": "431e7268-7a08-4cdc-af7c-1ae49b8e9980",
     "showTitle": false,
     "tableResultSettingsMap": {},
     "title": ""
    }
   },
   "outputs": [],
   "source": [
    "import logging\n",
    "from logging.handlers import RotatingFileHandler\n",
    "\n",
    "def get_logger(name=\"app\", level=logging.DEBUG, log_file=\"app.log\"):\n",
    "    \"\"\"\n",
    "    Configures and returns a logger with rotating file handler.\n",
    "\n",
    "    Args:\n",
    "        name (str): Name of the logger.\n",
    "        level (int): Logging level (e.g., logging.DEBUG, logging.INFO).\n",
    "        log_file (str): Path to the file where logs will be stored.\n",
    "\n",
    "    Returns:\n",
    "        logger: Configured logger object.\n",
    "    \"\"\"\n",
    "\n",
    "    # ✅ Create the logger\n",
    "    logger = logging.getLogger(name)\n",
    "    logger.setLevel(level)\n",
    "\n",
    "    # Avoid adding multiple handlers if already configured\n",
    "    if not logger.hasHandlers():\n",
    "        # ✅ Format for log messages\n",
    "        log_format = logging.Formatter(\n",
    "            \"%(asctime)s - %(name)s - %(levelname)s - %(message)s\",\n",
    "            datefmt=\"%Y-%m-%d %H:%M:%S\"\n",
    "        )\n",
    "\n",
    "        # ✅ Rotating file handler (2MB max, 5 backups)\n",
    "        file_handler = RotatingFileHandler(\n",
    "            filename=log_file,\n",
    "            maxBytes=2 * 1024 * 1024,  # 2 MB\n",
    "            backupCount=5,            # keep 5 old logs\n",
    "            encoding=\"utf-8\"\n",
    "        )\n",
    "        file_handler.setFormatter(log_format)\n",
    "        file_handler.setLevel(level)\n",
    "\n",
    "        # ✅ Console handler\n",
    "        console_handler = logging.StreamHandler()\n",
    "        console_handler.setFormatter(log_format)\n",
    "        console_handler.setLevel(level)\n",
    "\n",
    "        # ✅ Add handlers\n",
    "        logger.addHandler(file_handler)\n",
    "        logger.addHandler(console_handler)\n",
    "\n",
    "    return logger\n"
   ]
  }
 ],
 "metadata": {
  "application/vnd.databricks.v1+notebook": {
   "computePreferences": null,
   "dashboards": [],
   "environmentMetadata": {
    "base_environment": "",
    "environment_version": "2"
   },
   "inputWidgetPreferences": null,
   "language": "python",
   "notebookMetadata": {
    "pythonIndentUnit": 4
   },
   "notebookName": "logger",
   "widgets": {}
  },
  "language_info": {
   "name": "python"
  }
 },
 "nbformat": 4,
 "nbformat_minor": 0
}
